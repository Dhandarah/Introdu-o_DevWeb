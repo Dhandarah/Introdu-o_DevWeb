{
 "cells": [
  {
   "cell_type": "markdown",
   "metadata": {},
   "source": [
    "<center><h1> Desenvolvimento WEB </h1></center>\n",
    "#### - Conceito\n",
    "#### - Linguagens de Programação/Ferramentas mais utilizadas\n",
    "#### - Exemplos de códigos "
   ]
  },
  {
   "cell_type": "markdown",
   "metadata": {},
   "source": [
    "<h3> O que é: </h3>\n",
    "<p> Desenvolvimento WEB é o processo de criação de sites na internet. Criar páginas web consiste em uma série de ações direcionadas a partes diferentes do processo de desenvolvimento e que precisam ter uma boa comunicação a fim de que o layout da página(front-end) tenha uma boa interação com os objetos de back-end. O foco do desenvolvimento é obter um conjunto de programas, que satisfazem as funções pretendidas, quer em termos de usabilidade dos usuários ou compatibilidade com outros programas existentes.\n",
    "</p>\n",
    "<p>No desenvolvimento WEB alguns termos como front-end e back-end são utilizados para diferir as partes do sistema com a qual o usuário interage diretamente e a parte que ele não consegue visualizar, respectivamente.</p>\n",
    "\n",
    "\n",
    "<h3> Linguagens de Programação e Ferramentas mais comuns </h3>\n",
    "    As linguagens de programação mais utilizadas atualmente no desenvolvimento web são:\n",
    "<h4> HTML: </h4> É uma linguagem de marcação. Consistem em um conjunto de TAGS responsáveis pela marcação do conteúdo de uma página no navegador. É a única linguagem que o navegador é capaz de interpretar para exibição de conteúdo.\n",
    "<h4> CSS: </h4> É uma linguagem de formatação com o único objetivo de cuidar da estilização da página.\n",
    "<h4> JavaScript: </h4> É uma linguagem de programação definida como uma linguagem de Scripting. Uma linguagem de Scripting permite ao programador controlar uma ou mais aplicações de terceiros. No JS é possível controlar alguns comportamentos dos navegadores através de trechos de código que são enviados na página HTML. Para inserir um código JS em uma página é necessário utilizar a tag <code>&lt;script&gt;</code>.\n"
   ]
  },
  {
   "cell_type": "markdown",
   "metadata": {},
   "source": [
    "#### <h3>As ferramentas mais utilizadas são: </h3>\n",
    "<h4> JQuery: </h4> É uma biblioteca de JS, criada com a função de solucionar problemas dificéis de serem contornados com o uso do JS puro; A principal vantagem de utilizar uma biblioteca de JS é garantir uma maior compatibilidade de um código com diversos navegadores. \n",
    "\n",
    "<h4> FRAMEWORKS: </h4>\n",
    "<P>Um framework é um conjunto de códigos e/ou conceitos abstratos e/ou genéricos (geralmente classes), que relacionam-se para disponibilizar funcionalidades específicas ao desenvolver software. </P>\n",
    "<p>Existem alguns frameworks designados para suportar o desenvolvimento de sites web dinâmicos, aplicações web e serviços web. Destinam-se a aliviar a sobrecarga associada a atividades comuns realizadas em desenvolvimento web.</p>\n",
    "\n",
    "<h4>NODE.JS: </h4> É um framework de desenvolvimento para JavaScript que pode ser definido como um ambiente de execução JS server-side. Isso significa que é possível criar aplicações JavaScript para rodar como uma aplicação <strong>standalone</strong> em uma máquina, independente de um browser para a execução.\n",
    "\n",
    "<h4>DJANGO: </h4>É um framework de alto nível para desenvolvimento web, que tem como características a agilidade para o desenvolvimento de aplicações e foco no pragmatismo. O objetivo desse framework é facilitar a criação de sites complexos com banco de dados orientado. O foco principal é a capacidade de reutilização e a conexão de componentes, além de fornecer uma interface administrativa que é capaz de criar, ler e excluir dados via interface, permitindo um desenvolvimento rápido e evitando ao máximo a repetição.\n",
    "\n",
    "<h4> Bootstrap: </h4> É um framework front-end criado pelo pessoal do twitter e se ganhou muitos adeptos após se tornar opensource. Essa ferramenta auxilia na criação de um projeto contendo design e recursos base sem perder tempo com design no início. É mais voltado para a parte visual das aplicações, pois encapsula diversas funcionalidades de CSS que contribuem para a criação de uma página mais estilizada. \n",
    "\n",
    "<h4> YSlow: </h4> É uma extensão criada pelo Yahoo! para diagnóstico da página. O objetivo é identificar gargalos na performance web e dar algumas dicas de soluções sobre o que melhorar e como melhorar.\n",
    "\n",
    "<strong> Uma boa prática de programação web é a compressão de arquivos CSS e JS, mantendo a funcionalidade e excluindo os bytes que não influenciam no programa, como comentários e espaços no arquivo. Existe uma limitação no número de requisições que um navegador faz a um mesmo servidor, por isso a necessidade de técnicas que minimizem o número de requisições. Para isso existem algumas ferramentas de compressão de arquivos e minimização de requisiçoes.</strong>\n",
    "\n",
    "<h4> YUI: </h4> É uma ferramenta de compressão, multiplataforma, muito utilizada. Comprime tanto código CSS quanto JS. Para minimizar o número de requisições é aconselhável unir diversos arquivos CSS e JS.\n",
    "<h4> SPRITES: </h4> É uma técnica para minimizar o número de requisições juntando diversas imagens em um mesmo arquivo. Para mostrar a imagem é recortardo do arquivo apenas os pedaços que devem ser mostrados na página, utilizando CSS.\n",
    "\n"
   ]
  },
  {
   "cell_type": "markdown",
   "metadata": {},
   "source": [
    "<h3> Exemplos de código: </h3>\n",
    "<p>A tag HTML é de nível hierárquico mais alto, dentro dela há mais duas tags, (head e body). Ambas são consideradas \"irmãs\" pois estão no mesmo nível hierárquico.\n",
    "A tag <code>&lt;head&gt;</code> contém as informações que não precisam ser visíveis para o usuário na página. A taga <code>&lt;head&gt;</code> contém a tag <code>&lt;tittle&gt;</code>, que insere o nome na barra de título do site.\n",
    "A tag <code>&lt;body&gt;</code> contém o 'corpo' da página. </p>"
   ]
  },
  {
   "cell_type": "code",
   "execution_count": null,
   "metadata": {},
   "outputs": [],
   "source": [
    "\"<p style=\"color:red; background-color:black;\">\n",
    "O conteúdo desta tag será exibido em vermelho com fundo pretono navegador!\n",
    "</p>\""
   ]
  },
  {
   "cell_type": "markdown",
   "metadata": {},
   "source": [
    "No CSS podemos estilizar o conteúdo da página inserindo cores de fundo nos parágrafos. É o que o trecho acima faz. Para utilizar o css dentro da página a boa prática define que deve ser criado um outro arquivo com extensão .css e o arquivo .html tem acesso à ele por meio de um link. "
   ]
  },
  {
   "cell_type": "markdown",
   "metadata": {},
   "source": [
    "<link\trel=\"stylesheet\" href=\"css/bootstrap.css\">"
   ]
  },
  {
   "cell_type": "markdown",
   "metadata": {},
   "source": [
    "Para usar o <strong> Bootstrap</strong> ná pagina é necessário apenas incluir seu arquivo .css no HTML. "
   ]
  },
  {
   "cell_type": "markdown",
   "metadata": {},
   "source": [
    "### Interatividade JavaScript no HTML"
   ]
  },
  {
   "cell_type": "markdown",
   "metadata": {},
   "source": [
    "O HTML exibi o conteúdo definido em suas tags no navegador mas a função de alterar os valores das tags de acordo com as escolhas do usuário dentro do navegador é implementada por JavaScript.\n",
    "Por questões de execução e qualidade de experiência do usuário, a Tag script geralmente é inserida antes da tag <code>&lt;body&gt;</code>."
   ]
  },
  {
   "cell_type": "markdown",
   "metadata": {},
   "source": [
    "<body>\n",
    "#código das funções body.\n",
    "    <script>\n",
    "    #janela popup com a mensagem 'Hello!'\n",
    "        alert(Hello!);\n",
    "    </script>\n",
    "</body>"
   ]
  },
  {
   "cell_type": "markdown",
   "metadata": {},
   "source": [
    "Assim como podemos importar aquivos externos .css dentro do HTML, podemos importar arquivos .js no HTML, utilizando a tag <code>&lt;script&gt;</code>."
   ]
  },
  {
   "cell_type": "markdown",
   "metadata": {},
   "source": [
    "<script type=\"text/javascript\" src=\"js/hello.js\"></script>"
   ]
  },
  {
   "cell_type": "markdown",
   "metadata": {},
   "source": [
    "A biblioteca <strong>JQuery</strong> do JavaScript é largamente utilizada para realizar tarefas como seleção e alteração de elementos em documentos. A biblioteca tem a capacidade de utilizar os seletores css. "
   ]
  },
  {
   "cell_type": "code",
   "execution_count": null,
   "metadata": {},
   "outputs": [],
   "source": [
    "#pinta o fundo do formulário com id \"form\" de preto\n",
    "$('#form').css('background',\t'black');"
   ]
  },
  {
   "cell_type": "markdown",
   "metadata": {},
   "source": [
    "Existem alguns cuidados na hora de utilizar a biblioteca, o script dela deve ser importado sempre antes dos arquivos que a utlizam.  "
   ]
  },
  {
   "cell_type": "code",
   "execution_count": null,
   "metadata": {},
   "outputs": [],
   "source": [
    "<script\ttype=\"text/javascript\" src=\"scripts/jquery.js\"></script>\n",
    "<!--só\tpodemos\tutilizar\to\tjQuery\tapós\tsua\timportação\t-->\n",
    "<script\ttype=\"text/javascript\" src=\"scripts/script1.js\"></script>\n",
    "<script\ttype=\"text/javascript\" src=\"scripts/script2.js\"></script>"
   ]
  },
  {
   "cell_type": "markdown",
   "metadata": {},
   "source": [
    "O link para os códigos no github é:https://github.com/Dhandarah/Introdu-o_DevWeb.git"
   ]
  },
  {
   "cell_type": "markdown",
   "metadata": {},
   "source": [
    "### Referências\n"
   ]
  },
  {
   "cell_type": "markdown",
   "metadata": {},
   "source": [
    "- Caelum, Ensino e Inovação. Disponível em: <https://www.caelum.com.br/apostila-html-css-javascript/javascript-e-interatividade-na-web/#a-tag-script>.\n",
    "- Wikipedia, Desenvolvimento Web. Disponível em:<https://pt.wikipedia.org/wiki/Desenvolvimento_web>.\n",
    "- Portal GSTI. Disponível em: https://www.portalgsti.com.br/django/sobre/ .\n"
   ]
  },
  {
   "cell_type": "code",
   "execution_count": null,
   "metadata": {},
   "outputs": [],
   "source": []
  }
 ],
 "metadata": {
  "kernelspec": {
   "display_name": "Python 3",
   "language": "python",
   "name": "python3"
  },
  "language_info": {
   "codemirror_mode": {
    "name": "ipython",
    "version": 3
   },
   "file_extension": ".py",
   "mimetype": "text/x-python",
   "name": "python",
   "nbconvert_exporter": "python",
   "pygments_lexer": "ipython3",
   "version": "3.6.4"
  }
 },
 "nbformat": 4,
 "nbformat_minor": 2
}
